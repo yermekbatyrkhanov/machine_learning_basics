{
 "cells": [
  {
   "cell_type": "code",
   "execution_count": 1,
   "id": "ede1eb47-cb60-4b16-ac79-f13ce6661968",
   "metadata": {},
   "outputs": [],
   "source": [
    "from math import sqrt "
   ]
  },
  {
   "cell_type": "code",
   "execution_count": 3,
   "id": "4592162c-f941-45ef-91b9-cd801c5fee03",
   "metadata": {},
   "outputs": [],
   "source": [
    "plot1 = [1,3]"
   ]
  },
  {
   "cell_type": "code",
   "execution_count": 5,
   "id": "6c2fb50e-efcd-438f-803c-667890bb7b44",
   "metadata": {},
   "outputs": [],
   "source": [
    "plot2 = [2,5]"
   ]
  },
  {
   "cell_type": "code",
   "execution_count": 7,
   "id": "82bd3881-7b5f-4207-a398-e141894f503e",
   "metadata": {},
   "outputs": [],
   "source": [
    "euclidian_distance = sqrt( ( plot1[0]-plot2[0] )**2 + (plot1[1] - plot2[1])**2 )"
   ]
  },
  {
   "cell_type": "code",
   "execution_count": 11,
   "id": "da157271-ae27-48f6-b88e-cc578ade3255",
   "metadata": {},
   "outputs": [
    {
     "name": "stdout",
     "output_type": "stream",
     "text": [
      "2.23606797749979\n"
     ]
    }
   ],
   "source": [
    "print(euclidian_distance)"
   ]
  },
  {
   "cell_type": "code",
   "execution_count": null,
   "id": "476239b3-1378-4dfa-8ccc-03f4f7c9570e",
   "metadata": {},
   "outputs": [],
   "source": []
  }
 ],
 "metadata": {
  "kernelspec": {
   "display_name": "Python 3 (ipykernel)",
   "language": "python",
   "name": "python3"
  },
  "language_info": {
   "codemirror_mode": {
    "name": "ipython",
    "version": 3
   },
   "file_extension": ".py",
   "mimetype": "text/x-python",
   "name": "python",
   "nbconvert_exporter": "python",
   "pygments_lexer": "ipython3",
   "version": "3.12.3"
  }
 },
 "nbformat": 4,
 "nbformat_minor": 5
}
