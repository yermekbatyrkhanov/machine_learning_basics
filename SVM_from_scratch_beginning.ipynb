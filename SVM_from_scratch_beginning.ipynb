{
 "cells": [
  {
   "cell_type": "code",
   "execution_count": 1,
   "id": "ed21fcea-088f-40d7-8b11-e0c79e1bd2ff",
   "metadata": {},
   "outputs": [],
   "source": [
    "import matplotlib.pyplot as plt "
   ]
  },
  {
   "cell_type": "code",
   "execution_count": 3,
   "id": "d72102aa-cdeb-45af-898b-d6168b216853",
   "metadata": {},
   "outputs": [],
   "source": [
    "import numpy as np "
   ]
  },
  {
   "cell_type": "code",
   "execution_count": 7,
   "id": "a8a21f58-6af1-46e1-9b81-d1170872b6a8",
   "metadata": {},
   "outputs": [],
   "source": [
    "from matplotlib import style "
   ]
  },
  {
   "cell_type": "code",
   "execution_count": 9,
   "id": "2f4d2ca1-9cd2-494f-a473-478177a688fc",
   "metadata": {},
   "outputs": [],
   "source": [
    "style.use('ggplot')"
   ]
  },
  {
   "cell_type": "code",
   "execution_count": 11,
   "id": "42c8a961-a87a-4abb-b293-92772572a505",
   "metadata": {},
   "outputs": [],
   "source": [
    "data_dict = {\n",
    "    -1: np.array([ [1,7],[2,8],[3,8] ]),\n",
    "    1: np.array([ [5,1],[6,-1],[7,3] ])\n",
    "}"
   ]
  },
  {
   "cell_type": "code",
   "execution_count": 15,
   "id": "4ead4841-d879-493f-b00b-71042a24a329",
   "metadata": {},
   "outputs": [],
   "source": [
    "class Support_Vector_Machine:\n",
    "    def __init__(self, visualization=True):\n",
    "        self.visualization = visualization\n",
    "        self.colors = {1:'r', -1:'b'}\n",
    "        if self.visualization:\n",
    "            self.fig = plt.figure()\n",
    "            self.ax = self.fig.add_subplot(1,1,1)\n",
    "            "
   ]
  },
  {
   "cell_type": "code",
   "execution_count": 19,
   "id": "83e57b2c-c3b7-4a4e-b47b-deb71b3f16dc",
   "metadata": {},
   "outputs": [],
   "source": [
    "def fit(self, data):\n",
    "    pass\n",
    "    \n"
   ]
  },
  {
   "cell_type": "code",
   "execution_count": 21,
   "id": "b786167e-9235-4c61-ac04-a08f4c893f45",
   "metadata": {},
   "outputs": [],
   "source": [
    "def predict(self, features):\n",
    "    #sign (x.w+b)\n",
    "    classification = np.sign(np.dot(np.array(features), self.w)+self.b)\n",
    "\n",
    "    return classification "
   ]
  },
  {
   "cell_type": "code",
   "execution_count": null,
   "id": "aa10dee1-5c28-4df3-bb2d-9644b1e4af0f",
   "metadata": {},
   "outputs": [],
   "source": []
  }
 ],
 "metadata": {
  "kernelspec": {
   "display_name": "Python 3 (ipykernel)",
   "language": "python",
   "name": "python3"
  },
  "language_info": {
   "codemirror_mode": {
    "name": "ipython",
    "version": 3
   },
   "file_extension": ".py",
   "mimetype": "text/x-python",
   "name": "python",
   "nbconvert_exporter": "python",
   "pygments_lexer": "ipython3",
   "version": "3.12.3"
  }
 },
 "nbformat": 4,
 "nbformat_minor": 5
}
