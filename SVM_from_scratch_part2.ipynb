{
 "cells": [
  {
   "cell_type": "code",
   "execution_count": 1,
   "id": "ed21fcea-088f-40d7-8b11-e0c79e1bd2ff",
   "metadata": {},
   "outputs": [],
   "source": [
    "import matplotlib.pyplot as plt "
   ]
  },
  {
   "cell_type": "code",
   "execution_count": 2,
   "id": "d72102aa-cdeb-45af-898b-d6168b216853",
   "metadata": {},
   "outputs": [],
   "source": [
    "import numpy as np "
   ]
  },
  {
   "cell_type": "code",
   "execution_count": 3,
   "id": "a8a21f58-6af1-46e1-9b81-d1170872b6a8",
   "metadata": {},
   "outputs": [],
   "source": [
    "from matplotlib import style "
   ]
  },
  {
   "cell_type": "code",
   "execution_count": 4,
   "id": "2f4d2ca1-9cd2-494f-a473-478177a688fc",
   "metadata": {},
   "outputs": [],
   "source": [
    "style.use('ggplot')"
   ]
  },
  {
   "cell_type": "code",
   "execution_count": 5,
   "id": "42c8a961-a87a-4abb-b293-92772572a505",
   "metadata": {},
   "outputs": [],
   "source": [
    "data_dict = {\n",
    "    -1: np.array([ [1,7],[2,8],[3,8] ]),\n",
    "    1: np.array([ [5,1],[6,-1],[7,3] ])\n",
    "}"
   ]
  },
  {
   "cell_type": "code",
   "execution_count": 6,
   "id": "4ead4841-d879-493f-b00b-71042a24a329",
   "metadata": {},
   "outputs": [],
   "source": [
    "class Support_Vector_Machine:\n",
    "    def __init__(self, visualization=True):\n",
    "        self.visualization = visualization\n",
    "        self.colors = {1:'r', -1:'b'}\n",
    "        if self.visualization:\n",
    "            self.fig = plt.figure()\n",
    "            self.ax = self.fig.add_subplot(1,1,1)\n",
    "            "
   ]
  },
  {
   "cell_type": "code",
   "execution_count": 7,
   "id": "83e57b2c-c3b7-4a4e-b47b-deb71b3f16dc",
   "metadata": {},
   "outputs": [],
   "source": [
    "def fit(self, data):\n",
    "    pass\n",
    "    \n"
   ]
  },
  {
   "cell_type": "code",
   "execution_count": 8,
   "id": "b786167e-9235-4c61-ac04-a08f4c893f45",
   "metadata": {},
   "outputs": [],
   "source": [
    "def predict(self, features):\n",
    "    #sign (x.w+b)\n",
    "    classification = np.sign(np.dot(np.array(features), self.w)+self.b)\n",
    "\n",
    "    return classification "
   ]
  },
  {
   "cell_type": "code",
   "execution_count": 23,
   "id": "aa10dee1-5c28-4df3-bb2d-9644b1e4af0f",
   "metadata": {},
   "outputs": [],
   "source": [
    "#train\n",
    "def fit(self, data):\n",
    "    self.data = data\n",
    "    # { || w ||: [w,b]   }\n",
    "    opt_dict = {}\n",
    "\n",
    "    transforms = [[1,1],[-1,1],[-1,-1],[1,-1]]\n",
    "\n",
    "    all_data = []\n",
    "    for yi in self.data:\n",
    "        for featureset in self.data[yi]:\n",
    "            for feature in featureset:\n",
    "                all_data.append(feature)\n",
    "    self.max_feature_value = max(all_data)\n",
    "    self.min_feature_value = min(all_data) \n",
    "    all_data = None\n",
    "\n",
    "    step_sizes = [self.max_feature_value * 0.1,\n",
    "                 self.max_feature_value * 0.01,\n",
    "                 #point of expense:\n",
    "                 self.max_feature_value * 0.001]\n",
    "    #extremely expensive \n",
    "    b_range_multiple = 5 \n",
    "    #we don't need to take as small of steps \n",
    "    #with b as we do w\n",
    "    b_multiple = 5\n",
    "    \n",
    "    latest_optimum = self.max_feature_value *10\n",
    "    for step in step_sizes:\n",
    "        w = np.array([latest_optimum, latest_optimum])\n",
    "        #we can do this because convex \n",
    "        optimized = False\n",
    "        while not optimized: \n",
    "            for b in np.arange(-1*(self.max_feature_value*b_range_multiple), \n",
    "                              self.max_feature_value*b_range_multiple, \n",
    "                              step*b_multiple):\n",
    "                for transformation in transforms:\n",
    "                    w_t = w*transformation\n",
    "                    found_option = True\n",
    "                    #weakest link in the svm fundamentally \n",
    "                    #smo attempts to fix this a bit \n",
    "                    for i in self.data:\n",
    "                        for xi in self.data[i]:\n",
    "                            yi=i\n",
    "                            if not yi*(np.dot(w_t, xi)+b) >=1:\n",
    "                                found_option = False\n",
    "                                break\n",
    "                    if found_option:\n",
    "                        opt_dict[np.linalg.norm(w_t)] = [w_t, b]\n",
    "                        "
   ]
  },
  {
   "cell_type": "code",
   "execution_count": null,
   "id": "76fe02f7-4564-4785-a48a-505312f17988",
   "metadata": {},
   "outputs": [],
   "source": []
  }
 ],
 "metadata": {
  "kernelspec": {
   "display_name": "Python 3 (ipykernel)",
   "language": "python",
   "name": "python3"
  },
  "language_info": {
   "codemirror_mode": {
    "name": "ipython",
    "version": 3
   },
   "file_extension": ".py",
   "mimetype": "text/x-python",
   "name": "python",
   "nbconvert_exporter": "python",
   "pygments_lexer": "ipython3",
   "version": "3.12.3"
  }
 },
 "nbformat": 4,
 "nbformat_minor": 5
}
